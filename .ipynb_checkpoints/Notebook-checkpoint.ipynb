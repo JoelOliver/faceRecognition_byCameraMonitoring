{
 "cells": [
  {
   "cell_type": "code",
   "execution_count": 1,
   "metadata": {
    "collapsed": true
   },
   "outputs": [],
   "source": [
    "from loadFaces import load_faces,load_picture_captured"
   ]
  },
  {
   "cell_type": "code",
   "execution_count": 9,
   "metadata": {},
   "outputs": [
    {
     "name": "stdout",
     "output_type": "stream",
     "text": [
      "Carregando imagem_0\n",
      "samples_faces_dataset/Subject01-type 1.png\n",
      "1228800\n",
      "samples_faces_dataset/Subject01-type 2.png\n",
      "1228800\n",
      "samples_faces_dataset/Subject01-type 3.png\n",
      "1228800\n",
      "samples_faces_dataset/Subject01-type 4.png\n",
      "1228800\n",
      "samples_faces_dataset/Subject01-type 5.png\n",
      "1228800\n",
      "samples_faces_dataset/Subject01-type 6.png\n",
      "1228800\n",
      "samples_faces_dataset/Subject01-type 7.png\n",
      "1228800\n",
      "samples_faces_dataset/Subject01-type 8.png\n",
      "1228800\n",
      "samples_faces_dataset/Subject01-type 9.png\n",
      "1228800\n",
      "samples_faces_dataset/Subject01-type 10.png\n",
      "1228800\n",
      "Carregando imagem_1\n",
      "samples_faces_dataset/Subject02-type 1.png\n",
      "1228800\n",
      "samples_faces_dataset/Subject02-type 2.png\n",
      "1228800\n",
      "samples_faces_dataset/Subject02-type 3.png\n",
      "1228800\n",
      "samples_faces_dataset/Subject02-type 4.png\n",
      "1228800\n",
      "samples_faces_dataset/Subject02-type 5.png\n",
      "1228800\n",
      "samples_faces_dataset/Subject02-type 6.png\n",
      "1228800\n",
      "samples_faces_dataset/Subject02-type 7.png\n",
      "1228800\n",
      "samples_faces_dataset/Subject02-type 8.png\n",
      "1228800\n",
      "samples_faces_dataset/Subject02-type 9.png\n",
      "1228800\n",
      "samples_faces_dataset/Subject02-type 10.png\n",
      "1228800\n",
      "Carregando imagem_2\n",
      "samples_faces_dataset/Subject03-type 1.png\n",
      "1228800\n",
      "samples_faces_dataset/Subject03-type 2.png\n",
      "1228800\n",
      "samples_faces_dataset/Subject03-type 3.png\n",
      "1228800\n",
      "samples_faces_dataset/Subject03-type 4.png\n",
      "1228800\n",
      "samples_faces_dataset/Subject03-type 5.png\n",
      "1228800\n",
      "samples_faces_dataset/Subject03-type 6.png\n",
      "1228800\n",
      "samples_faces_dataset/Subject03-type 7.png\n",
      "1228800\n",
      "samples_faces_dataset/Subject03-type 8.png\n",
      "1228800\n",
      "samples_faces_dataset/Subject03-type 9.png\n",
      "1228800\n",
      "samples_faces_dataset/Subject03-type 10.png\n",
      "1228800\n"
     ]
    }
   ],
   "source": [
    "dataset_faces = load_faces('samples_faces_dataset')\n",
    "X, y = [dataset_faces[0], dataset_faces[1]]"
   ]
  },
  {
   "cell_type": "code",
   "execution_count": 10,
   "metadata": {},
   "outputs": [
    {
     "data": {
      "text/plain": [
       "[1,\n",
       " 1,\n",
       " 1,\n",
       " 1,\n",
       " 1,\n",
       " 1,\n",
       " 1,\n",
       " 1,\n",
       " 1,\n",
       " 1,\n",
       " 2,\n",
       " 2,\n",
       " 2,\n",
       " 2,\n",
       " 2,\n",
       " 2,\n",
       " 2,\n",
       " 2,\n",
       " 2,\n",
       " 2,\n",
       " 3,\n",
       " 3,\n",
       " 3,\n",
       " 3,\n",
       " 3,\n",
       " 3,\n",
       " 3,\n",
       " 3,\n",
       " 3,\n",
       " 3]"
      ]
     },
     "execution_count": 10,
     "metadata": {},
     "output_type": "execute_result"
    }
   ],
   "source": [
    "import pandas as pd\n",
    "df = pd.DataFrame(X)\n",
    "y"
   ]
  },
  {
   "cell_type": "code",
   "execution_count": null,
   "metadata": {
    "collapsed": true
   },
   "outputs": [],
   "source": []
  }
 ],
 "metadata": {
  "kernelspec": {
   "display_name": "Python 3",
   "language": "python",
   "name": "python3"
  },
  "language_info": {
   "codemirror_mode": {
    "name": "ipython",
    "version": 3
   },
   "file_extension": ".py",
   "mimetype": "text/x-python",
   "name": "python",
   "nbconvert_exporter": "python",
   "pygments_lexer": "ipython3",
   "version": "3.6.1"
  }
 },
 "nbformat": 4,
 "nbformat_minor": 2
}
